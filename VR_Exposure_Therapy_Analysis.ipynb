{
 "cells": [
  {
   "cell_type": "code",
   "execution_count": null,
   "id": "b2f53bdd",
   "metadata": {},
   "outputs": [],
   "source": [
    "\n",
    "import pandas as pd\n",
    "import matplotlib.pyplot as plt\n",
    "import seaborn as sns\n",
    "\n",
    "# Load dataset\n",
    "df = pd.read_excel('vr_exposure_therapy_data.xlsx')\n",
    "\n",
    "# Display first few rows\n",
    "print(df.head())\n",
    "\n",
    "# Summary statistics\n",
    "print(df.describe())\n",
    "\n",
    "# Distribution of Exposure Levels\n",
    "plt.figure(figsize=(6,4))\n",
    "sns.countplot(x='ExposureLevel', data=df, palette='Set2')\n",
    "plt.title('Distribution of Exposure Levels')\n",
    "plt.show()\n",
    "\n",
    "# Heart Rate vs Stress Level\n",
    "plt.figure(figsize=(6,4))\n",
    "sns.scatterplot(x='HeartRate', y='StressLevel', hue='ExposureLevel', data=df, palette='Set1')\n",
    "plt.title('Heart Rate vs Stress Level by Exposure Level')\n",
    "plt.show()\n",
    "\n",
    "# Improvement Score distribution\n",
    "plt.figure(figsize=(6,4))\n",
    "sns.histplot(df['ImprovementScore'], bins=10, kde=True, color='blue')\n",
    "plt.title('Improvement Score Distribution')\n",
    "plt.show()\n"
   ]
  }
 ],
 "metadata": {},
 "nbformat": 4,
 "nbformat_minor": 5
}
